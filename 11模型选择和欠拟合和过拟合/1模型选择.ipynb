{
 "cells": [
  {
   "cell_type": "markdown",
   "metadata": {
    "collapsed": true,
    "pycharm": {
     "name": "#%% md\n"
    }
   },
   "source": [
    "# 模型选择\n",
    "- 训练误差：模型在训练数据集上的误差\n",
    "- 泛化误差：模型在新数据上的误差\n",
    "在过去的考试中表现很好（训练误差）不代表未来考试一定会很好（泛化误差），我们更加关注的是泛化误差"
   ]
  },
  {
   "cell_type": "markdown",
   "source": [
    "## 数据集分类\n",
    " 验证数据集（validation）\n",
    "用来评估模型好坏的数据集，例如拿50%的训练数据（Train），不要和训练数据混在一起（常犯的错误）\n",
    "验证数据集上的效果也不会代表真实的泛化能力\n",
    "测试数据集（test）：只用一次的数据集，不能用它来调任何的超参数"
   ],
   "metadata": {
    "collapsed": false
   }
  },
  {
   "cell_type": "markdown",
   "source": [
    "## k 则交叉验证\n",
    "基本目标：用于模型调优，找到使模型泛化性能最优的超参值，找到后，在全部的训练集上重新训练模型，并使用独立的测试集对模型性能做出最终评价\n",
    "算法：\n",
    "- 将训练数据集分割成K块\n",
    "- for i = 1,....k\n",
    "    -使用第i块作为验证数据集，其余作为训练数据集\n",
    "- 报告k个验证集误差的平均\n",
    "- 常用K=5或者10"
   ],
   "metadata": {
    "collapsed": false
   }
  },
  {
   "cell_type": "markdown",
   "source": [
    "总结\n",
    "- 训练集数据集：训练模型参数\n",
    "- 验证数据集：选择模型超参数\n",
    "- 非大数据集上通常使用k折交叉验证"
   ],
   "metadata": {
    "collapsed": false
   }
  },
  {
   "cell_type": "markdown",
   "source": [
    "# 过拟合和欠拟合\n",
    "\n"
   ],
   "metadata": {
    "collapsed": false
   }
  }
 ],
 "metadata": {
  "kernelspec": {
   "display_name": "Python 3",
   "language": "python",
   "name": "python3"
  },
  "language_info": {
   "codemirror_mode": {
    "name": "ipython",
    "version": 2
   },
   "file_extension": ".py",
   "mimetype": "text/x-python",
   "name": "python",
   "nbconvert_exporter": "python",
   "pygments_lexer": "ipython2",
   "version": "2.7.6"
  }
 },
 "nbformat": 4,
 "nbformat_minor": 0
}