{
 "cells": [
  {
   "cell_type": "markdown",
   "metadata": {
    "collapsed": true,
    "pycharm": {
     "name": "#%% md\n"
    }
   },
   "source": [
    "感知机模型\n",
    "为了能够更加好的去拟合实际的情况，有两种方法：增加感知机隐藏层的维数，第二一个增加感知机的深度\n",
    "多深度感知机最好的方法是逐渐进行压缩维数（如果先压到2再增加到5，很有可能会在2的地方就损失很多的内容）\n",
    "在CNN中先压缩再扩张能够避免overfitting？"
   ]
  },
  {
   "cell_type": "markdown",
   "source": [
    " - 多层感知机是使用隐藏层和激活函数来得到非线性模型\n",
    " - 常用激活函数是Sigmoid，Tanh，ReLU\n",
    " - 使用Softmax来处理多类分类\n",
    " - 超参数为隐藏层数，和各个隐藏层大小"
   ],
   "metadata": {
    "collapsed": false
   }
  },
  {
   "cell_type": "markdown",
   "source": [
    "激活函数的本质是引入非线性\n",
    "ReLU是分段函数，不是线性函数，线性函数只能是ax+b的模式\n",
    "激活函数并不重要，本质上没有区别\n",
    "设计网络的时候，没有方向的时候，就是过试，\n",
    "鲁棒性：输入数据发生改变的时候，预测结果应该不发生改变"
   ],
   "metadata": {
    "collapsed": false,
    "pycharm": {
     "name": "#%% md\n"
    }
   }
  }
 ],
 "metadata": {
  "kernelspec": {
   "display_name": "Python 3",
   "language": "python",
   "name": "python3"
  },
  "language_info": {
   "codemirror_mode": {
    "name": "ipython",
    "version": 2
   },
   "file_extension": ".py",
   "mimetype": "text/x-python",
   "name": "python",
   "nbconvert_exporter": "python",
   "pygments_lexer": "ipython2",
   "version": "2.7.6"
  }
 },
 "nbformat": 4,
 "nbformat_minor": 0
}