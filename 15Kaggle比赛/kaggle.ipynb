{
 "cells": [
  {
   "cell_type": "markdown",
   "metadata": {
    "collapsed": true,
    "pycharm": {
     "name": "#%% md\n"
    }
   },
   "source": [
    "数据读取"
   ]
  },
  {
   "cell_type": "code",
   "execution_count": 1,
   "outputs": [],
   "source": [
    "import pandas as pd\n",
    "\n",
    "\n",
    "# 1. 数据导入，在pd模块中有csv的处理函数\n",
    "train_data = pd.read_csv(\"E:\\\\xunlei\\\\train\\\\train.csv\")\n",
    "test_data = pd.read_csv(\"E:\\\\xunlei\\\\train\\\\test.csv\")"
   ],
   "metadata": {
    "collapsed": false,
    "pycharm": {
     "name": "#%%\n"
    }
   }
  },
  {
   "cell_type": "markdown",
   "source": [
    "2. 数据预处理，我觉得summary肯定是没用的，address我也不能理解，因为每个房子的address一定是不同的，第二个就是就是state 都是ca\n",
    "根据网上的信息，pandas删除列的Api是del，传入的是字符串，代表的是列的名字\n",
    "所以第一步，将需要删除的列安在一个数组，遍历这个数组进行删除\n"
   ],
   "metadata": {
    "collapsed": false,
    "pycharm": {
     "name": "#%% md\n"
    }
   }
  },
  {
   "cell_type": "markdown",
   "source": [
    "知识预备：pandas对数值型数据和非数值型数据的处理，\n",
    "pd.read_csv读入时，如果读入的是字符串，那么该列会以object形式读入，也不能直接进行计算，所以需要对数据进行预处理，清除掉非数字的数据"
   ],
   "metadata": {
    "collapsed": false
   }
  },
  {
   "cell_type": "code",
   "execution_count": 2,
   "outputs": [
    {
     "data": {
      "text/plain": "          Id  Sold Price                Type  Year built  \\\n0          0   3825000.0        SingleFamily      1969.0   \n1          1    505000.0        SingleFamily      1926.0   \n2          2    140000.0        SingleFamily      1958.0   \n3          3   1775000.0        SingleFamily      1947.0   \n4          4   1175000.0          VacantLand         NaN   \n...      ...         ...                 ...         ...   \n47434  47434    159000.0        SingleFamily      1965.0   \n47435  47435    255000.0  MobileManufactured      1999.0   \n47436  47436   2300000.0        SingleFamily      1919.0   \n47437  47437    500000.0        SingleFamily      2017.0   \n47438  47438    760000.0        SingleFamily      1948.0   \n\n                                            Heating  \\\n0      Heating - 2+ Zones, Central Forced Air - Gas   \n1                                       Combination   \n2                                        Forced air   \n3                                           Central   \n4                                               NaN   \n...                                             ...   \n47434                                       Central   \n47435                       Central Forced Air, Gas   \n47436                                       Central   \n47437                                       Central   \n47438                                           NaN   \n\n                                                 Cooling  \\\n0        Multi-Zone, Central AC, Whole House / Attic Fan   \n1      Wall/Window Unit(s), Evaporative Cooling, See ...   \n2                                                    NaN   \n3                                            Central Air   \n4                                                    NaN   \n...                                                  ...   \n47434                                        Central Air   \n47435                                         Central AC   \n47436                                        Central Air   \n47437                                        Central Air   \n47438                                               None   \n\n                                             Parking      Lot  \\\n0                 Garage, Garage - Attached, Covered      1.0   \n1                           Detached Carport, Garage   4047.0   \n2                                           0 spaces   9147.0   \n3      Detached Carport, Driveway, Garage - Two Door      NaN   \n4                                           0 spaces      NaN   \n...                                              ...      ...   \n47434                               Carport, Covered  20908.8   \n47435                                        Carport      NaN   \n47436                                       Driveway   6756.0   \n47437    Garage, Carport, Garage - Attached, Covered   5945.0   \n47438                              Garage - Attached   8250.0   \n\n                                                Bedrooms  Bathrooms  ...  \\\n0      Ground Floor Bedroom, Master Bedroom on Ground...        0.0  ...   \n1                                                      3        2.0  ...   \n2                                                      2        3.0  ...   \n3                                                      5        3.0  ...   \n4                                                    NaN        NaN  ...   \n...                                                  ...        ...  ...   \n47434                                                  3        2.0  ...   \n47435                                                  3        2.0  ...   \n47436                                                  3        2.0  ...   \n47437                                                  3        3.0  ...   \n47438                                                  2        1.0  ...   \n\n                              Laundry features  \\\n0      Washer / Dryer, Inside, In Utility Room   \n1                                       Inside   \n2                                          NaN   \n3                       Stackable, Upper Level   \n4                                          NaN   \n...                                        ...   \n47434                                      NaN   \n47435                             Hookups Only   \n47436                             Laundry Room   \n47437                              Inside Room   \n47438                              See Remarks   \n\n                                    Parking features  Tax assessed value  \\\n0                 Garage, Garage - Attached, Covered            886486.0   \n1                           Detached Carport, Garage            505000.0   \n2                                                NaN             49627.0   \n3      Detached Carport, Driveway, Garage - Two Door           1775000.0   \n4                                                NaN                 NaN   \n...                                              ...                 ...   \n47434                               Carport, Covered            125049.0   \n47435                                        Carport             68924.0   \n47436                                       Driveway            578000.0   \n47437    Garage, Carport, Garage - Attached, Covered            484696.0   \n47438                              Garage - Attached             49671.0   \n\n       Annual tax amount   Listed On Listed Price  Last Sold On  \\\n0                12580.0  2019-10-24    4198000.0           NaN   \n1                 6253.0  2019-10-16     525000.0    2019-08-30   \n2                  468.0  2019-08-25     180000.0           NaN   \n3                20787.0  2019-10-24    1895000.0    2016-08-30   \n4                    NaN  2019-06-07    1595000.0    2016-06-27   \n...                  ...         ...          ...           ...   \n47434             1298.0  2020-09-04     155000.0           NaN   \n47435              721.0  2020-07-23     295900.0           NaN   \n47436             7211.0  2020-12-01    2295000.0    2015-05-01   \n47437             7627.0  2020-08-01     499888.0    2020-08-24   \n47438             1089.0  2020-11-02     748000.0           NaN   \n\n       Last Sold Price          City    Zip  \n0                  NaN     Los Altos  94022  \n1             328000.0   Los Angeles  90047  \n2                  NaN    Strawberry  95375  \n3            1500000.0   Culver City  90230  \n4             900000.0       Creston  93432  \n...                ...           ...    ...  \n47434              NaN        Blythe  92225  \n47435              NaN     Sunnyvale  94089  \n47436        2150000.0   Los Angeles  90046  \n47437         500000.0     Elk Grove  95757  \n47438              NaN  Los Alamitos  90720  \n\n[47439 rows x 38 columns]",
      "text/html": "<div>\n<style scoped>\n    .dataframe tbody tr th:only-of-type {\n        vertical-align: middle;\n    }\n\n    .dataframe tbody tr th {\n        vertical-align: top;\n    }\n\n    .dataframe thead th {\n        text-align: right;\n    }\n</style>\n<table border=\"1\" class=\"dataframe\">\n  <thead>\n    <tr style=\"text-align: right;\">\n      <th></th>\n      <th>Id</th>\n      <th>Sold Price</th>\n      <th>Type</th>\n      <th>Year built</th>\n      <th>Heating</th>\n      <th>Cooling</th>\n      <th>Parking</th>\n      <th>Lot</th>\n      <th>Bedrooms</th>\n      <th>Bathrooms</th>\n      <th>...</th>\n      <th>Laundry features</th>\n      <th>Parking features</th>\n      <th>Tax assessed value</th>\n      <th>Annual tax amount</th>\n      <th>Listed On</th>\n      <th>Listed Price</th>\n      <th>Last Sold On</th>\n      <th>Last Sold Price</th>\n      <th>City</th>\n      <th>Zip</th>\n    </tr>\n  </thead>\n  <tbody>\n    <tr>\n      <th>0</th>\n      <td>0</td>\n      <td>3825000.0</td>\n      <td>SingleFamily</td>\n      <td>1969.0</td>\n      <td>Heating - 2+ Zones, Central Forced Air - Gas</td>\n      <td>Multi-Zone, Central AC, Whole House / Attic Fan</td>\n      <td>Garage, Garage - Attached, Covered</td>\n      <td>1.0</td>\n      <td>Ground Floor Bedroom, Master Bedroom on Ground...</td>\n      <td>0.0</td>\n      <td>...</td>\n      <td>Washer / Dryer, Inside, In Utility Room</td>\n      <td>Garage, Garage - Attached, Covered</td>\n      <td>886486.0</td>\n      <td>12580.0</td>\n      <td>2019-10-24</td>\n      <td>4198000.0</td>\n      <td>NaN</td>\n      <td>NaN</td>\n      <td>Los Altos</td>\n      <td>94022</td>\n    </tr>\n    <tr>\n      <th>1</th>\n      <td>1</td>\n      <td>505000.0</td>\n      <td>SingleFamily</td>\n      <td>1926.0</td>\n      <td>Combination</td>\n      <td>Wall/Window Unit(s), Evaporative Cooling, See ...</td>\n      <td>Detached Carport, Garage</td>\n      <td>4047.0</td>\n      <td>3</td>\n      <td>2.0</td>\n      <td>...</td>\n      <td>Inside</td>\n      <td>Detached Carport, Garage</td>\n      <td>505000.0</td>\n      <td>6253.0</td>\n      <td>2019-10-16</td>\n      <td>525000.0</td>\n      <td>2019-08-30</td>\n      <td>328000.0</td>\n      <td>Los Angeles</td>\n      <td>90047</td>\n    </tr>\n    <tr>\n      <th>2</th>\n      <td>2</td>\n      <td>140000.0</td>\n      <td>SingleFamily</td>\n      <td>1958.0</td>\n      <td>Forced air</td>\n      <td>NaN</td>\n      <td>0 spaces</td>\n      <td>9147.0</td>\n      <td>2</td>\n      <td>3.0</td>\n      <td>...</td>\n      <td>NaN</td>\n      <td>NaN</td>\n      <td>49627.0</td>\n      <td>468.0</td>\n      <td>2019-08-25</td>\n      <td>180000.0</td>\n      <td>NaN</td>\n      <td>NaN</td>\n      <td>Strawberry</td>\n      <td>95375</td>\n    </tr>\n    <tr>\n      <th>3</th>\n      <td>3</td>\n      <td>1775000.0</td>\n      <td>SingleFamily</td>\n      <td>1947.0</td>\n      <td>Central</td>\n      <td>Central Air</td>\n      <td>Detached Carport, Driveway, Garage - Two Door</td>\n      <td>NaN</td>\n      <td>5</td>\n      <td>3.0</td>\n      <td>...</td>\n      <td>Stackable, Upper Level</td>\n      <td>Detached Carport, Driveway, Garage - Two Door</td>\n      <td>1775000.0</td>\n      <td>20787.0</td>\n      <td>2019-10-24</td>\n      <td>1895000.0</td>\n      <td>2016-08-30</td>\n      <td>1500000.0</td>\n      <td>Culver City</td>\n      <td>90230</td>\n    </tr>\n    <tr>\n      <th>4</th>\n      <td>4</td>\n      <td>1175000.0</td>\n      <td>VacantLand</td>\n      <td>NaN</td>\n      <td>NaN</td>\n      <td>NaN</td>\n      <td>0 spaces</td>\n      <td>NaN</td>\n      <td>NaN</td>\n      <td>NaN</td>\n      <td>...</td>\n      <td>NaN</td>\n      <td>NaN</td>\n      <td>NaN</td>\n      <td>NaN</td>\n      <td>2019-06-07</td>\n      <td>1595000.0</td>\n      <td>2016-06-27</td>\n      <td>900000.0</td>\n      <td>Creston</td>\n      <td>93432</td>\n    </tr>\n    <tr>\n      <th>...</th>\n      <td>...</td>\n      <td>...</td>\n      <td>...</td>\n      <td>...</td>\n      <td>...</td>\n      <td>...</td>\n      <td>...</td>\n      <td>...</td>\n      <td>...</td>\n      <td>...</td>\n      <td>...</td>\n      <td>...</td>\n      <td>...</td>\n      <td>...</td>\n      <td>...</td>\n      <td>...</td>\n      <td>...</td>\n      <td>...</td>\n      <td>...</td>\n      <td>...</td>\n      <td>...</td>\n    </tr>\n    <tr>\n      <th>47434</th>\n      <td>47434</td>\n      <td>159000.0</td>\n      <td>SingleFamily</td>\n      <td>1965.0</td>\n      <td>Central</td>\n      <td>Central Air</td>\n      <td>Carport, Covered</td>\n      <td>20908.8</td>\n      <td>3</td>\n      <td>2.0</td>\n      <td>...</td>\n      <td>NaN</td>\n      <td>Carport, Covered</td>\n      <td>125049.0</td>\n      <td>1298.0</td>\n      <td>2020-09-04</td>\n      <td>155000.0</td>\n      <td>NaN</td>\n      <td>NaN</td>\n      <td>Blythe</td>\n      <td>92225</td>\n    </tr>\n    <tr>\n      <th>47435</th>\n      <td>47435</td>\n      <td>255000.0</td>\n      <td>MobileManufactured</td>\n      <td>1999.0</td>\n      <td>Central Forced Air, Gas</td>\n      <td>Central AC</td>\n      <td>Carport</td>\n      <td>NaN</td>\n      <td>3</td>\n      <td>2.0</td>\n      <td>...</td>\n      <td>Hookups Only</td>\n      <td>Carport</td>\n      <td>68924.0</td>\n      <td>721.0</td>\n      <td>2020-07-23</td>\n      <td>295900.0</td>\n      <td>NaN</td>\n      <td>NaN</td>\n      <td>Sunnyvale</td>\n      <td>94089</td>\n    </tr>\n    <tr>\n      <th>47436</th>\n      <td>47436</td>\n      <td>2300000.0</td>\n      <td>SingleFamily</td>\n      <td>1919.0</td>\n      <td>Central</td>\n      <td>Central Air</td>\n      <td>Driveway</td>\n      <td>6756.0</td>\n      <td>3</td>\n      <td>2.0</td>\n      <td>...</td>\n      <td>Laundry Room</td>\n      <td>Driveway</td>\n      <td>578000.0</td>\n      <td>7211.0</td>\n      <td>2020-12-01</td>\n      <td>2295000.0</td>\n      <td>2015-05-01</td>\n      <td>2150000.0</td>\n      <td>Los Angeles</td>\n      <td>90046</td>\n    </tr>\n    <tr>\n      <th>47437</th>\n      <td>47437</td>\n      <td>500000.0</td>\n      <td>SingleFamily</td>\n      <td>2017.0</td>\n      <td>Central</td>\n      <td>Central Air</td>\n      <td>Garage, Carport, Garage - Attached, Covered</td>\n      <td>5945.0</td>\n      <td>3</td>\n      <td>3.0</td>\n      <td>...</td>\n      <td>Inside Room</td>\n      <td>Garage, Carport, Garage - Attached, Covered</td>\n      <td>484696.0</td>\n      <td>7627.0</td>\n      <td>2020-08-01</td>\n      <td>499888.0</td>\n      <td>2020-08-24</td>\n      <td>500000.0</td>\n      <td>Elk Grove</td>\n      <td>95757</td>\n    </tr>\n    <tr>\n      <th>47438</th>\n      <td>47438</td>\n      <td>760000.0</td>\n      <td>SingleFamily</td>\n      <td>1948.0</td>\n      <td>NaN</td>\n      <td>None</td>\n      <td>Garage - Attached</td>\n      <td>8250.0</td>\n      <td>2</td>\n      <td>1.0</td>\n      <td>...</td>\n      <td>See Remarks</td>\n      <td>Garage - Attached</td>\n      <td>49671.0</td>\n      <td>1089.0</td>\n      <td>2020-11-02</td>\n      <td>748000.0</td>\n      <td>NaN</td>\n      <td>NaN</td>\n      <td>Los Alamitos</td>\n      <td>90720</td>\n    </tr>\n  </tbody>\n</table>\n<p>47439 rows × 38 columns</p>\n</div>"
     },
     "execution_count": 2,
     "metadata": {},
     "output_type": "execute_result"
    }
   ],
   "source": [
    "delet_list = ['Address','Summary','State']\n",
    "for index in delet_list:\n",
    "    del train_data[index],test_data[index]\n",
    "train_data"
   ],
   "metadata": {
    "collapsed": false,
    "pycharm": {
     "name": "#%%\n"
    }
   }
  },
  {
   "cell_type": "markdown",
   "source": [
    "删除id和没用的东西\n",
    "本来想像老师一样，进行同批次处理的，但是发现执行的过程中有错误，我个人的排查，可能是因为all_features = pd.concat((train_data.iloc[:, 1:], test_data.iloc[:, 1:]),axis=1)"
   ],
   "metadata": {
    "collapsed": false,
    "pycharm": {
     "name": "#%% md\n"
    }
   }
  },
  {
   "cell_type": "code",
   "execution_count": 3,
   "outputs": [],
   "source": [
    "# all_features = pd.concat((train_data.iloc[:, 1:], test_data.iloc[:, 1:]),axis=1)\n",
    "def resizeNumerica(train_data):\n",
    "    numeric_feature = train_data.dtypes[train_data.dtypes != 'object'].index\n",
    "    train_data[numeric_feature] = train_data[numeric_feature].apply(lambda x: (x - x.mean()) / (x.std()))\n",
    "    train_data[numeric_feature] = train_data[numeric_feature].fillna(0)\n",
    "    return train_data,numeric_feature\n",
    "train_data,train_numeric_index = resizeNumerica(train_data.iloc[:, 1:])\n",
    "test_data,test_numeric_index = resizeNumerica(test_data.iloc[:,1:])"
   ],
   "metadata": {
    "collapsed": false,
    "pycharm": {
     "name": "#%%\n"
    }
   }
  },
  {
   "cell_type": "markdown",
   "source": [
    "接下来就是对字符串数据进行独热编码\n",
    "在进行独热编码之前，可以对特殊值进行分析，到底有多少种类，我如果一下自动生成 内存就爆了， 而且还变成了4W个column\n",
    "我们没有对语义进行分析，只是单纯的进行类别分析，所以大类型的可以直接丢弃,根据下面的输出，我只保留Type,Bedrooms,Cooling features 其他的不再进行编码\n",
    "思路就是对Numerical进行扩展，只保留需要保存的列"
   ],
   "metadata": {
    "collapsed": false
   }
  },
  {
   "cell_type": "code",
   "execution_count": 4,
   "outputs": [
    {
     "name": "stdout",
     "output_type": "stream",
     "text": [
      "Type                 158\n",
      "Heating              1861\n",
      "Cooling              542\n",
      "Parking              5114\n",
      "Bedrooms             265\n",
      "Region               950\n",
      "Elementary School    1718\n",
      "Middle School        489\n",
      "High School          631\n",
      "Flooring             1349\n",
      "Heating features     1123\n",
      "Cooling features     313\n",
      "Appliances included  4585\n",
      "Laundry features     1977\n",
      "Parking features     4961\n",
      "Listed On            2467\n",
      "Last Sold On         6114\n",
      "City                 929\n"
     ]
    }
   ],
   "source": [
    "# train_data = pd.get_dummies(train_data)\n",
    "# test_data = pd.get_dummies(test_data)\n",
    "for in_object in train_data.dtypes[train_data.dtypes=='object'].index:\n",
    "    print(in_object.ljust(20),len(train_data[in_object].unique()))"
   ],
   "metadata": {
    "collapsed": false,
    "pycharm": {
     "name": "#%%\n"
    }
   }
  },
  {
   "cell_type": "code",
   "execution_count": 5,
   "outputs": [],
   "source": [],
   "metadata": {
    "collapsed": false,
    "pycharm": {
     "name": "#%%\n"
    }
   }
  },
  {
   "cell_type": "code",
   "execution_count": 5,
   "outputs": [],
   "source": [],
   "metadata": {
    "collapsed": false,
    "pycharm": {
     "name": "#%%\n"
    }
   }
  }
 ],
 "metadata": {
  "kernelspec": {
   "display_name": "Python 3",
   "language": "python",
   "name": "python3"
  },
  "language_info": {
   "codemirror_mode": {
    "name": "ipython",
    "version": 2
   },
   "file_extension": ".py",
   "mimetype": "text/x-python",
   "name": "python",
   "nbconvert_exporter": "python",
   "pygments_lexer": "ipython2",
   "version": "2.7.6"
  }
 },
 "nbformat": 4,
 "nbformat_minor": 0
}