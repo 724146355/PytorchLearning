{
 "cells": [
  {
   "cell_type": "markdown",
   "metadata": {
    "collapsed": true,
    "pycharm": {
     "name": "#%% md\n"
    }
   },
   "source": [
    "如何让训练更加稳定\n",
    " - 目标：让梯度值在合理的范围内\n",
    " - 常见的方法\n",
    "    - 将乘法变成加法：RestNet，LSTM\n",
    "    - 归一化：梯度归一化（回归到0-1之间），梯度剪裁（设置梯度的最大和最小值）\n",
    "    - 合理的权重初始和激活函数"
   ]
  },
  {
   "cell_type": "markdown",
   "source": [
    "让每层的方差是一个常数\n",
    "- 将每层的输出和梯度都看作随机变量，让他们的均值和方差都保持一样（这是我想要达到的要求）\n",
    "第一个权重初始化\n",
    "- 在合理值区间里随机初始化参数\n",
    "- 训练开始时更容易有数值不稳定（一般来说），远离最优解的地方损失函数表面可能很复杂（越陡，梯度就会更加大），最优解附近表面会比较平\n",
    "- 使用随机初始化可能对小网络时没有问题的，但是对于深度网络可能并不是太适合"
   ],
   "metadata": {
    "collapsed": false
   }
  },
  {
   "cell_type": "code",
   "execution_count": null,
   "outputs": [],
   "source": [],
   "metadata": {
    "collapsed": false,
    "pycharm": {
     "name": "#%%\n"
    }
   }
  },
  {
   "cell_type": "code",
   "execution_count": null,
   "outputs": [],
   "source": [],
   "metadata": {
    "collapsed": false,
    "pycharm": {
     "name": "#%%\n"
    }
   }
  }
 ],
 "metadata": {
  "kernelspec": {
   "display_name": "Python 3",
   "language": "python",
   "name": "python3"
  },
  "language_info": {
   "codemirror_mode": {
    "name": "ipython",
    "version": 2
   },
   "file_extension": ".py",
   "mimetype": "text/x-python",
   "name": "python",
   "nbconvert_exporter": "python",
   "pygments_lexer": "ipython2",
   "version": "2.7.6"
  }
 },
 "nbformat": 4,
 "nbformat_minor": 0
}